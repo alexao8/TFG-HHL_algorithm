{
 "cells": [
  {
   "cell_type": "markdown",
   "id": "e4efad3d",
   "metadata": {},
   "source": [
    "## Quantum Fourier Transform using Qibo\n",
    "\n",
    "In this notebook, the implementation of the quantum fourier transform circuit using Qibo, an open source framework for programming quantum computers."
   ]
  },
  {
   "cell_type": "markdown",
   "id": "63b1a7de",
   "metadata": {},
   "source": [
    "In this case, we need to import the following libraries. Especifically we need to import the different objects that we are going to use from Qibo and math, the python library."
   ]
  },
  {
   "cell_type": "code",
   "execution_count": null,
   "id": "93d0e286",
   "metadata": {},
   "outputs": [],
   "source": [
    "from qibo import gates\n",
    "from qibo.models.circuit import Circuit\n",
    "import math"
   ]
  },
  {
   "cell_type": "markdown",
   "id": "e47dad1c",
   "metadata": {},
   "source": [
    "Once we have the needed imports, we are going to define the number of qubits that will have the circuit. You can change the number to see different sizes of the QFT circuit."
   ]
  },
  {
   "cell_type": "code",
   "execution_count": null,
   "id": "a95c5398",
   "metadata": {},
   "outputs": [],
   "source": [
    "# number of qubits in the QFT circuit\n",
    "nqubits = ..."
   ]
  },
  {
   "cell_type": "markdown",
   "id": "6cfb28b6",
   "metadata": {},
   "source": [
    "At this point we can start building our circuit. The first part is to declare an empty circuit with the number of qubits that we have defined previously."
   ]
  },
  {
   "cell_type": "code",
   "execution_count": null,
   "id": "d8445522",
   "metadata": {},
   "outputs": [],
   "source": [
    "# Circuit is the object in Qibo that represents the circuit that is going to be build\n",
    "#The circuit is declared with nqubits qubits\n",
    "circuit = Circuit(nqubits)"
   ]
  },
  {
   "attachments": {
    "Captura%20de%20pantalla%20de%202023-06-26%2010-51-48.png": {
     "image/png": "[encoded data removed]"
    }
   },
   "cell_type": "markdown",
   "id": "9cb92419",
   "metadata": {},
   "source": [
    "In the following cell we are going to add the gates we need in order to build the QFT circuit. The circuit should represent the following expression:\n",
    "\n",
    "$$ F_{N}| k\\rangle = \\bigotimes_{l=1}^{n} \\frac{1}{\\sqrt{2}} (| 0\\rangle + e^{i2\\pi k/2^{l}}| 1\\rangle) $$\n",
    "\n",
    "As we can see, this a tensor product of $n$ qubits (in this case, $nqubits$ qubits). These qubits are in a superposition. This superposition can be achieved applying a the Hadamard gate.\n",
    "\n",
    "However if we take a look at the amplitude of $| 1\\rangle$. In order to achieve it in this circuit, we are going to use the U1 gate from Qibo. This gate is represented by the following matrix operator:\n",
    "$$\\begin{pmatrix}\n",
    "1 & 0\\\\\n",
    "0 & e^{i\\theta}\n",
    "\\end{pmatrix}$$\n",
    "\n",
    "In this case $\\theta = 2\\pi k/2^{l}$ and $k/2^{l}$ can be expressed as the fraction of a power of 2. It can be useful to use another notation. For instance $k/2^{l} = 0.k_1k_2...k_l$ where $k_n$ is the  $n^{th}$ qubit and $l$ is the the number of qubits we have treated. So we will apply $n$ controlled-U1 to the $l$ qubit being controlled by the $n^{th}$ qubit.\n",
    "\n",
    "Giving an example, the following circuit is the example of the QFT of 3 qubits.\n",
    "![Captura%20de%20pantalla%20de%202023-06-26%2010-51-48.png](attachment:Captura%20de%20pantalla%20de%202023-06-26%2010-51-48.png)"
   ]
  },
  {
   "cell_type": "code",
   "execution_count": null,
   "id": "e1c42ea6",
   "metadata": {},
   "outputs": [],
   "source": [
    "# a Hadamard gate is applied to each qubit.\n",
    "# then a CU1 gate is applied to every qubit from the qubit q+1 to the nqubits-1 qubit (last qubit).\n",
    "for q1 in range(nqubits):\n",
    "    circuit.add(gates.H(q1))\n",
    "    for q2 in range(q1 + 1, nqubits):\n",
    "        theta = math.pi / 2 ** (q2 - q1)\n",
    "        circuit.add(gates.CU1(q2, q1, theta))"
   ]
  },
  {
   "cell_type": "markdown",
   "id": "21dec114",
   "metadata": {},
   "source": [
    "However, although we applied the correct gates to each qubit. Our circuit now is upside down. In order to fix this we will apply SWAP gates to each pair of qubits (the first qubit and the last qubit, the second qubit and the penultimate qubit. This what we are going to do in the following code cell."
   ]
  },
  {
   "cell_type": "code",
   "execution_count": null,
   "id": "3443665c",
   "metadata": {},
   "outputs": [],
   "source": [
    "# Finally the SWAP gates are added\n",
    "for i in range(nqubits // 2):\n",
    "    circuit.add(gates.SWAP(i, nqubits - i - 1))"
   ]
  },
  {
   "cell_type": "markdown",
   "id": "cf5e3c2a",
   "metadata": {},
   "source": [
    "Now we have our Quantum Fourier Transform quantum circuit using qibo with $nqubits$ qubits. This circuit is transforming the state $| 0\\rangle$ to its Fourier basis. In case you want to transform another state, you can add X gates to the desired qubits at the beginning of the circuit to represent the any integer in its binary form.\n",
    "\n",
    "The following cell will give you a markdown that draws our final circuit."
   ]
  },
  {
   "cell_type": "code",
   "execution_count": null,
   "id": "aa09b62f",
   "metadata": {},
   "outputs": [],
   "source": [
    "print(circuit.draw())"
   ]
  }
 ],
 "metadata": {
  "kernelspec": {
   "display_name": "Python 3",
   "language": "python",
   "name": "python3"
  },
  "language_info": {
   "codemirror_mode": {
    "name": "ipython",
    "version": 3
   },
   "file_extension": ".py",
   "mimetype": "text/x-python",
   "name": "python",
   "nbconvert_exporter": "python",
   "pygments_lexer": "ipython3",
   "version": "3.8.8"
  }
 },
 "nbformat": 4,
 "nbformat_minor": 5
}
