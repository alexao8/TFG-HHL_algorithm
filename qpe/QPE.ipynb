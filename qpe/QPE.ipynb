{
 "cells": [
  {
   "cell_type": "markdown",
   "id": "efecc6a4",
   "metadata": {},
   "source": [
    "# Quantum Phase Estimation: Implementation tutorial\n",
    "\n",
    "The quantum phase estimation algorithm is used to estimate the phase of a given operator U. Specifically, the problem statement is the following:\n",
    "\n",
    "Given a unitary transformation $U$ on $n$ qubits and $|\\psi\\rangle$ is an eigenvector of $U$ with eigenvalue $e^{2\\pi i\\phi}$ where $0 \\le \\phi \\le 1$. Consider that $U$ or $|\\psi\\rangle$ or $e^{2\\pi i\\phi}$ is not explicitly known but instead control-$U^{2^j}$ operations can be performed where $j \\in \\mathbb{R}: 0 \\le j$. Also, assume that a single preparation of the state $|\\psi\\rangle$ is given. The problem is to obtain an m-bit estimator of $\\phi$."
   ]
  },
  {
   "cell_type": "markdown",
   "id": "6eaedc6c",
   "metadata": {},
   "source": [
    "## Quantum Phase Estimation using Qibo\n",
    "\n",
    "In this notebook, the implementation of the quantum phase estimation circuit using Qibo, an open source framework for programming quantum computers.\n",
    "\n",
    "In this case, we need to import the following libraries. Especifically we need to import the different objects that we are going to use from Qibo and math, the python library."
   ]
  },
  {
   "cell_type": "code",
   "execution_count": null,
   "id": "783ef18a",
   "metadata": {},
   "outputs": [],
   "source": [
    "from qibo import gates\n",
    "from qibo.models.circuit import Circuit\n",
    "from qibo.models import QFT\n",
    "import math"
   ]
  },
  {
   "cell_type": "markdown",
   "id": "83afd641",
   "metadata": {},
   "source": [
    "### Defining the input eigenvector $|\\psi \\rangle$\n",
    "\n",
    "Before starting with the implementation of this circuit, we need to implement a smaller circuit. This circuit will define the input eigenvector $|\\psi \\rangle$ of the quantum phase estimation. In the following cell you will be able to define the circuit you want to use. A small circuit will be given and commented at the beginning of the code cell in case you don't have anything in mind."
   ]
  },
  {
   "cell_type": "code",
   "execution_count": null,
   "id": "9c53bc67",
   "metadata": {},
   "outputs": [],
   "source": [
    "# circuit = Circuit(1)\n",
    "# circuit.add(gates.X(0))\n",
    "\n",
    "#number of qubits of your circuit\n",
    "n = ...\n",
    "circuit = Circuit(n)\n",
    "\n",
    "#################\n",
    "# add the needed gates to your circuit\n",
    "#################"
   ]
  },
  {
   "cell_type": "markdown",
   "id": "b2753e82",
   "metadata": {},
   "source": [
    "### Defining the operator U\n",
    "\n",
    "After defining the input of our circuit. We need to define the operator we are going to use. We will estime its phase.\n",
    "\n",
    "In the following code cell you can define the operator you want to use. You will have an option to use commented at the beginning of the cell.\n",
    "\n",
    "You will be able to define a matrix to use as operator too."
   ]
  },
  {
   "cell_type": "code",
   "execution_count": null,
   "id": "1bc242e4",
   "metadata": {},
   "outputs": [],
   "source": [
    "# operator = gates.T\n",
    "operator = ...\n",
    "\n",
    "# matrix = np.ndarray([[1,0],[0,math.e**(1j*math.pi/4)]])\n",
    "matrix = ..."
   ]
  },
  {
   "cell_type": "markdown",
   "id": "c5860354",
   "metadata": {},
   "source": [
    "### QPE circuit\n",
    "\n",
    "Now we have set the input eigenvector $|\\psi \\rangle$ of our QPE circuit, we can start building the actual circuit. The first step will be to declare the circuit. This circuit will have $mqubits$ qubits (the number of qubits that will estimate the phase we are looking for) plus the number of circuit of our input circuit defined previously."
   ]
  },
  {
   "cell_type": "code",
   "execution_count": null,
   "id": "22e7dbdd",
   "metadata": {},
   "outputs": [],
   "source": [
    "qpe = Circuit(mqubits+circuit.nqubits)"
   ]
  },
  {
   "cell_type": "markdown",
   "id": "df72475f",
   "metadata": {},
   "source": [
    "Once the circuit is declared, we have to attach the input circuit to our QPE circuit. This circuit will be applied in the last qubits. Using Qibo, we will use the $add$ method to add the input circuit in the qubits from the $mqubits$ qubit to the last qubit. We do so in the following cell."
   ]
  },
  {
   "cell_type": "code",
   "execution_count": null,
   "id": "ee6c8a70",
   "metadata": {},
   "outputs": [],
   "source": [
    "#The circuit that gives the state that will be the input of the QPE is attached to the whole QPE circuit\n",
    "qpe.add(circuit.on_qubits(*range(mqubits,mqubits+circuit.nqubits)))"
   ]
  },
  {
   "cell_type": "markdown",
   "id": "47cd3e04",
   "metadata": {},
   "source": [
    "Now we have our circuit declared and our input circuit added, it is time to build the QPE circuit. Now our circuit will represent the following quantum state:\n",
    "$$ |\\psi_{0}\\rangle = |0\\rangle^{\\otimes m}|\\psi \\rangle $$\n",
    "\n",
    "The first step is to become this state to:\n",
    "$$|\\psi_{1}\\rangle = H^{\\otimes m}|0\\rangle^{\\otimes m}|\\psi\\rangle = \\frac{1}{2^{\\frac{m}{2}}} (|0\\rangle+|1\\rangle)^{\\otimes m} |\\psi\\rangle$$\n",
    "\n",
    "This is transform the $mqubits$ from $|0\\rangle$ to its superposition applying the Hadamard gate. We will apply them in the following code cell."
   ]
  },
  {
   "cell_type": "code",
   "execution_count": null,
   "id": "b4f36a7a",
   "metadata": {},
   "outputs": [],
   "source": [
    "#The H gates are added to the firsts mqubits\n",
    "for q in range(0,mqubits):\n",
    "    if q < mqubits: qpe.add(gates.H(q))  "
   ]
  },
  {
   "cell_type": "markdown",
   "id": "c99ba0d6",
   "metadata": {},
   "source": [
    "Our next step is to transform our current quantum state to the following:\n",
    "\n",
    "$$|\\psi_{1}\\rangle \\mapsto |\\psi_{2}\\rangle  =\\frac {1}{2^{\\frac{m}{2}}}\\left(|0\\rangle+{e^{2\\pi i \\phi 2^{m-1}}}|1\\rangle \\right) \\otimes \\cdots \\otimes \\left(|0\\rangle+{e^{2\\pi i \\phi 2^{0}}}\\vert1\\rangle \\right) \\otimes |\\psi\\rangle = \\frac{1}{2^{{\\frac{m}{2}}}}\\sum _{k=0}^{2^{m}-1}e^{2\\pi i \\phi k}|k\\rangle \\otimes \\vert\\psi\\rangle\n",
    "$$\n",
    "\n",
    "In order to achieve it, we have to define and apply controlled-$U^{2^j}$. Applying the controlled-$U^{2^j}$ gate is the same as applying the controlled-$U$ gate $2^j$ times. What we achieve applying these gates, is to kick the phase of the controlled qubit to the control qubit. This phenomena is called phase kickback and will be key to achieve the quantum state we are trying to get.\n",
    "\n",
    "In the following code cells we apply the controlled-$U$ gates. THe controlled qubits of the controlled-$U$ gate will be the qubits that represent the eigenvector $|\\psi \\rangle$.\n",
    "\n",
    "Use the first cell if you defined an operator and the second cell if you defined a matrix."
   ]
  },
  {
   "cell_type": "code",
   "execution_count": null,
   "id": "ef02eab2",
   "metadata": {},
   "outputs": [],
   "source": [
    "###################### OPERATOR OPTION ######################\n",
    "\n",
    "#The U gates are set\n",
    "reps = 2**(mqubits-1)\n",
    "for q in range(mqubits):\n",
    "    for i in range(reps):\n",
    "        qpe.add(operator(*range(mqubits, circuit.nqubits+mqubits)).controlled_by(q))\n",
    "    reps //= 2\n",
    "\n",
    "###################### OPERATOR OPTION ######################"
   ]
  },
  {
   "cell_type": "code",
   "execution_count": null,
   "id": "9e7e9131",
   "metadata": {},
   "outputs": [],
   "source": [
    "###################### MATRIX OPTION ######################\n",
    "\n",
    "\n",
    "#The U gates are set\n",
    "reps = 2**(mqubits-1)\n",
    "for q in range(mqubits):\n",
    "  for i in range(reps):\n",
    "      qpe.add(gates.Unitary(matrix,*range(mqubits, circuit.nqubits+mqubits)).controlled_by(q))\n",
    "  reps //= 2\n",
    "\n",
    "###################### MATRIX OPTION ######################"
   ]
  },
  {
   "cell_type": "markdown",
   "id": "cf373e59",
   "metadata": {},
   "source": [
    "Now, if we take a look to our current state in the circuit which is:\n",
    "$$|\\psi_{2}\\rangle   = \\frac{1}{2^{{\\frac{m}{2}}}}\\sum _{k=0}^{2^{m}-1}e^{2\\pi i \\phi k}|k\\rangle \\otimes \\vert\\psi\\rangle\n",
    "$$\n",
    "\n",
    "We can notice that is very similar as the output expression of the Quantum Fourier Transform. What we are going to do now is to apply the invers QFT in order to get the phase we are looking for. Thus, we will gate the following state:\n",
    "$$    |\\psi_3\\rangle = |2^m \\phi \\rangle \\otimes |\\psi\\rangle $$\n",
    "\n",
    "In the following code cell we will apply the inverse QFT to our circuit. We will use the QFT model from Qibo."
   ]
  },
  {
   "cell_type": "code",
   "execution_count": null,
   "id": "92b58c93",
   "metadata": {},
   "outputs": [],
   "source": [
    "#Apply the IQFT\n",
    "qft = QFT(mqubits)\n",
    "iqft = qft.invert()\n",
    "qpe.add(iqft.on_qubits(*range(0, mqubits)))"
   ]
  },
  {
   "cell_type": "markdown",
   "id": "b1f71b7d",
   "metadata": {},
   "source": [
    "Now we have the implementation of the Quantum Phase Estimation. The following cell will give you a markdown that draws our final circuit."
   ]
  },
  {
   "cell_type": "code",
   "execution_count": null,
   "id": "f148bbc8",
   "metadata": {},
   "outputs": [],
   "source": [
    "print(qpe.draw())"
   ]
  }
 ],
 "metadata": {
  "kernelspec": {
   "display_name": "Python 3",
   "language": "python",
   "name": "python3"
  },
  "language_info": {
   "codemirror_mode": {
    "name": "ipython",
    "version": 3
   },
   "file_extension": ".py",
   "mimetype": "text/x-python",
   "name": "python",
   "nbconvert_exporter": "python",
   "pygments_lexer": "ipython3",
   "version": "3.8.8"
  }
 },
 "nbformat": 4,
 "nbformat_minor": 5
}
